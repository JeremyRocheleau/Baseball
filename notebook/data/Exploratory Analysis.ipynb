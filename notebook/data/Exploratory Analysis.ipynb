{
 "cells": [
  {
   "cell_type": "code",
   "execution_count": 1,
   "id": "initial_id",
   "metadata": {
    "collapsed": true,
    "ExecuteTime": {
     "end_time": "2025-08-02T19:01:11.313364200Z",
     "start_time": "2025-08-02T19:01:09.398617Z"
    }
   },
   "outputs": [],
   "source": [
    "from pybaseball import statcast\n",
    "from pybaseball import playerid_lookup\n",
    "from pybaseball import statcast_pitcher\n",
    "from pybaseball import pitching_stats\n",
    "from pybaseball import batting_stats\n",
    "from pybaseball import playerid_reverse_lookup\n",
    "import pandas as pd\n",
    "import numpy as np\n",
    "import pyodbc\n",
    "from pybaseball import cache\n",
    "import matplotlib.pyplot as plt\n",
    "import seaborn as sns\n",
    "import warnings\n",
    "warnings.filterwarnings(\"ignore\")\n",
    "import psycopg2\n",
    "from sqlalchemy import create_engine\n",
    "import pyodbc\n",
    "from dateutil.relativedelta import relativedelta\n",
    "from datetime import date"
   ]
  },
  {
   "cell_type": "markdown",
   "source": [
    "#### Connect to SQL Database"
   ],
   "metadata": {
    "collapsed": false
   },
   "id": "51946d74cd613eef"
  },
  {
   "cell_type": "code",
   "execution_count": 2,
   "outputs": [],
   "source": [
    "param_dict = {\n",
    "    \"host\": \"localhost\",\n",
    "    \"database\": \"Baseball\",\n",
    "    \"user\": \"postgres\",\n",
    "    \"password\": \"Bullets10!\"\n",
    "}\n",
    "\n",
    "param_dict = {\n",
    "    \"host\": \"localhost\",\n",
    "    \"database\": \"Baseball\",\n",
    "    \"user\": \"postgres\",\n",
    "    \"password\": \"Bullets10!\"\n",
    "}\n",
    "\n",
    "def connect(params_dict):\n",
    "    \"Connecting to PostgreSQL Database Server\"\n",
    "    conn = None\n",
    "    try:\n",
    "        print(\"Connecting to the PostgreSQL Database\")\n",
    "        conn = psycopg2.connect(**params_dict)\n",
    "    except (Exception, psycopg2.DataError) as error:\n",
    "        print(error)\n",
    "    return conn\n",
    "\n",
    "connect = \"postgresql+psycopg2://%s:%s@%s:5432/%s\" % (\n",
    "    param_dict['user'],\n",
    "    param_dict['password'],\n",
    "    param_dict['host'],\n",
    "    param_dict['database']\n",
    ")\n",
    "engine = create_engine(connect)"
   ],
   "metadata": {
    "collapsed": false,
    "ExecuteTime": {
     "end_time": "2025-08-02T19:01:31.358840100Z",
     "start_time": "2025-08-02T19:01:31.279051900Z"
    }
   },
   "id": "b9b1d629ab2acf5f"
  },
  {
   "cell_type": "markdown",
   "source": [
    "#### Load All Final Pitch Data\n",
    "\n",
    "Final Pitch = Pitch that resulted in an event (In Play / Strikeout)"
   ],
   "metadata": {
    "collapsed": false
   },
   "id": "d82a15657b18ffe5"
  },
  {
   "cell_type": "code",
   "execution_count": null,
   "outputs": [],
   "source": [
    "data = pd.read_sql_query(\"select * from final_pitch\", con=engine)\n",
    "data.head()"
   ],
   "metadata": {
    "collapsed": false,
    "is_executing": true,
    "ExecuteTime": {
     "start_time": "2025-08-02T19:11:13.584219500Z"
    }
   },
   "id": "2aa516adca76decd"
  },
  {
   "cell_type": "code",
   "execution_count": null,
   "outputs": [],
   "source": [],
   "metadata": {
    "collapsed": false
   },
   "id": "6cdddc09eedc39e8"
  }
 ],
 "metadata": {
  "kernelspec": {
   "display_name": "Python 3",
   "language": "python",
   "name": "python3"
  },
  "language_info": {
   "codemirror_mode": {
    "name": "ipython",
    "version": 2
   },
   "file_extension": ".py",
   "mimetype": "text/x-python",
   "name": "python",
   "nbconvert_exporter": "python",
   "pygments_lexer": "ipython2",
   "version": "2.7.6"
  }
 },
 "nbformat": 4,
 "nbformat_minor": 5
}
