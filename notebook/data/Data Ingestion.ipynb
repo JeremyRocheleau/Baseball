{
 "cells": [
  {
   "cell_type": "markdown",
   "source": [
    "## Install Packages"
   ],
   "metadata": {
    "collapsed": false
   },
   "id": "d9afe430764ae53"
  },
  {
   "cell_type": "code",
   "execution_count": 2,
   "id": "initial_id",
   "metadata": {
    "collapsed": true,
    "ExecuteTime": {
     "end_time": "2025-07-30T23:42:28.516052400Z",
     "start_time": "2025-07-30T23:42:28.501091900Z"
    }
   },
   "outputs": [],
   "source": [
    "from pybaseball import statcast\n",
    "from pybaseball import playerid_lookup\n",
    "from pybaseball import statcast_pitcher\n",
    "from pybaseball import pitching_stats\n",
    "from pybaseball import batting_stats\n",
    "from pybaseball import playerid_reverse_lookup\n",
    "import pandas as pd\n",
    "import numpy as np\n",
    "import pyodbc\n",
    "from pybaseball import cache\n",
    "import matplotlib.pyplot as plt\n",
    "import seaborn as sns\n",
    "import warnings\n",
    "warnings.filterwarnings(\"ignore\")\n",
    "import psycopg2\n",
    "from sqlalchemy import create_engine\n",
    "import pyodbc"
   ]
  },
  {
   "cell_type": "code",
   "execution_count": null,
   "outputs": [],
   "source": [
    "param_dict = {\n",
    "    \"host\": \"localhost\",\n",
    "    \"database\": \"Baseball\",\n",
    "    \"user\": \"postgres\",\n",
    "    \"password\": \"Bullets10!\"\n",
    "}\n",
    "\n"
   ],
   "metadata": {
    "collapsed": false
   },
   "id": "af57b9325ecaa175"
  },
  {
   "cell_type": "markdown",
   "source": [
    "### Connect to Database"
   ],
   "metadata": {
    "collapsed": false
   },
   "id": "15de2c896f31078d"
  },
  {
   "cell_type": "code",
   "execution_count": 3,
   "outputs": [],
   "source": [
    "param_dict = {\n",
    "    \"host\": \"localhost\",\n",
    "    \"database\": \"Baseball\",\n",
    "    \"user\": \"postgres\",\n",
    "    \"password\": \"Bullets10!\"\n",
    "}\n",
    "\n",
    "def connect(params_dict):\n",
    "    \"Connecting to PostgreSQL Database Server\"\n",
    "    conn = None\n",
    "    try:\n",
    "        print(\"Connecting to the PostgreSQL Database\")\n",
    "        conn = psycopg2.connect(**params_dict)\n",
    "    except (Exception, psycopg2.DataError) as error:\n",
    "        print(error)\n",
    "    return conn\n",
    "\n",
    "connect = \"postgresql+psycopg2://%s:%s@%s:5432/%s\" % (\n",
    "    param_dict['user'],\n",
    "    param_dict['password'],\n",
    "    param_dict['host'],\n",
    "    param_dict['database']\n",
    ")\n",
    "engine = create_engine(connect)"
   ],
   "metadata": {
    "collapsed": false,
    "ExecuteTime": {
     "end_time": "2025-07-31T01:01:00.548337400Z",
     "start_time": "2025-07-31T01:01:00.469547900Z"
    }
   },
   "id": "8d789d2d3ea807ce"
  },
  {
   "cell_type": "markdown",
   "source": [
    "### Delete all Data in Raw_Pitch Table"
   ],
   "metadata": {
    "collapsed": false
   },
   "id": "faf6ca02352a045b"
  },
  {
   "cell_type": "code",
   "execution_count": 7,
   "outputs": [
    {
     "ename": "NameError",
     "evalue": "name 'conn' is not defined",
     "output_type": "error",
     "traceback": [
      "\u001B[1;31m---------------------------------------------------------------------------\u001B[0m",
      "\u001B[1;31mNameError\u001B[0m                                 Traceback (most recent call last)",
      "Input \u001B[1;32mIn [7]\u001B[0m, in \u001B[0;36m<cell line: 1>\u001B[1;34m()\u001B[0m\n\u001B[1;32m----> 1\u001B[0m \u001B[43mconn\u001B[49m\u001B[38;5;241m.\u001B[39mclose()\n",
      "\u001B[1;31mNameError\u001B[0m: name 'conn' is not defined"
     ]
    }
   ],
   "source": [
    "conn.close()"
   ],
   "metadata": {
    "collapsed": false,
    "ExecuteTime": {
     "end_time": "2025-07-31T23:20:35.748953300Z",
     "start_time": "2025-07-31T23:20:35.731998500Z"
    }
   },
   "id": "5d2eee37bed900e8"
  },
  {
   "cell_type": "code",
   "execution_count": 6,
   "outputs": [
    {
     "name": "stdout",
     "output_type": "stream",
     "text": [
      "Data Deleted\n"
     ]
    }
   ],
   "source": [
    "sql_query = 'DELETE FROM raw_pitch'\n",
    "engine.execute(sql_query)\n",
    "aprint(\"Data Deleted\")\n"
   ],
   "metadata": {
    "collapsed": false,
    "ExecuteTime": {
     "end_time": "2025-07-31T01:04:32.737203Z",
     "start_time": "2025-07-31T01:03:05.168330700Z"
    }
   },
   "id": "1ae2a1662ee25dab"
  },
  {
   "cell_type": "markdown",
   "source": [
    "### Create Functions for getting and appending data"
   ],
   "metadata": {
    "collapsed": false
   },
   "id": "d7ab6744b5d8e1de"
  },
  {
   "cell_type": "code",
   "execution_count": 2,
   "outputs": [],
   "source": [
    "def get_data(start_date, end_date):\n",
    "    cache.enable()\n",
    "    df = statcast(start_dt = start_date, end_dt = end_date)\n",
    "    df[\"month\"] = pd.to_datetime(df['game_date'])\n",
    "    \n",
    "    return df\n",
    "    \n",
    "def append_data(data):\n",
    "    \n",
    "    pass"
   ],
   "metadata": {
    "collapsed": false,
    "ExecuteTime": {
     "end_time": "2025-07-30T23:42:28.530015900Z",
     "start_time": "2025-07-30T23:42:28.514057400Z"
    }
   },
   "id": "b6ddded71e76604e"
  }
 ],
 "metadata": {
  "kernelspec": {
   "display_name": "Python 3",
   "language": "python",
   "name": "python3"
  },
  "language_info": {
   "codemirror_mode": {
    "name": "ipython",
    "version": 2
   },
   "file_extension": ".py",
   "mimetype": "text/x-python",
   "name": "python",
   "nbconvert_exporter": "python",
   "pygments_lexer": "ipython2",
   "version": "2.7.6"
  }
 },
 "nbformat": 4,
 "nbformat_minor": 5
}
