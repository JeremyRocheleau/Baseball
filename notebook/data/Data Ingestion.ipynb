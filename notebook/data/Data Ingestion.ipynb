{
 "cells": [
  {
   "cell_type": "markdown",
   "source": [
    "## Install Packages"
   ],
   "metadata": {
    "collapsed": false
   },
   "id": "d9afe430764ae53"
  },
  {
   "cell_type": "code",
   "execution_count": 6,
   "id": "initial_id",
   "metadata": {
    "collapsed": true,
    "ExecuteTime": {
     "end_time": "2025-08-02T02:08:21.647734900Z",
     "start_time": "2025-08-02T02:08:21.638760400Z"
    }
   },
   "outputs": [],
   "source": [
    "from pybaseball import statcast\n",
    "from pybaseball import playerid_lookup\n",
    "from pybaseball import statcast_pitcher\n",
    "from pybaseball import pitching_stats\n",
    "from pybaseball import batting_stats\n",
    "from pybaseball import playerid_reverse_lookup\n",
    "import pandas as pd\n",
    "import numpy as np\n",
    "import pyodbc\n",
    "from pybaseball import cache\n",
    "import matplotlib.pyplot as plt\n",
    "import seaborn as sns\n",
    "import warnings\n",
    "warnings.filterwarnings(\"ignore\")\n",
    "import psycopg2\n",
    "from sqlalchemy import create_engine\n",
    "import pyodbc\n",
    "from dateutil.relativedelta import relativedelta\n",
    "from datetime import date"
   ]
  },
  {
   "cell_type": "code",
   "execution_count": 2,
   "outputs": [],
   "source": [
    "param_dict = {\n",
    "    \"host\": \"localhost\",\n",
    "    \"database\": \"Baseball\",\n",
    "    \"user\": \"postgres\",\n",
    "    \"password\": \"Bullets10!\"\n",
    "}"
   ],
   "metadata": {
    "collapsed": false,
    "ExecuteTime": {
     "end_time": "2025-08-02T02:07:36.985459400Z",
     "start_time": "2025-08-02T02:07:36.953553Z"
    }
   },
   "id": "af57b9325ecaa175"
  },
  {
   "cell_type": "markdown",
   "source": [
    "### Connect to Database"
   ],
   "metadata": {
    "collapsed": false
   },
   "id": "15de2c896f31078d"
  },
  {
   "cell_type": "code",
   "execution_count": 3,
   "outputs": [],
   "source": [
    "param_dict = {\n",
    "    \"host\": \"localhost\",\n",
    "    \"database\": \"Baseball\",\n",
    "    \"user\": \"postgres\",\n",
    "    \"password\": \"Bullets10!\"\n",
    "}\n",
    "\n",
    "def connect(params_dict):\n",
    "    \"Connecting to PostgreSQL Database Server\"\n",
    "    conn = None\n",
    "    try:\n",
    "        print(\"Connecting to the PostgreSQL Database\")\n",
    "        conn = psycopg2.connect(**params_dict)\n",
    "    except (Exception, psycopg2.DataError) as error:\n",
    "        print(error)\n",
    "    return conn\n",
    "\n",
    "connect = \"postgresql+psycopg2://%s:%s@%s:5432/%s\" % (\n",
    "    param_dict['user'],\n",
    "    param_dict['password'],\n",
    "    param_dict['host'],\n",
    "    param_dict['database']\n",
    ")\n",
    "engine = create_engine(connect)"
   ],
   "metadata": {
    "collapsed": false,
    "ExecuteTime": {
     "end_time": "2025-08-02T02:07:38.793176100Z",
     "start_time": "2025-08-02T02:07:38.764248700Z"
    }
   },
   "id": "8d789d2d3ea807ce"
  },
  {
   "cell_type": "markdown",
   "source": [
    "### Create Functions for getting and appending data"
   ],
   "metadata": {
    "collapsed": false
   },
   "id": "d7ab6744b5d8e1de"
  },
  {
   "cell_type": "code",
   "execution_count": 4,
   "outputs": [],
   "source": [
    "def get_data(start_date, end_date):\n",
    "    cache.enable()\n",
    "    df = statcast(start_dt = start_date, end_dt = end_date)\n",
    "    df = df[['pitch_type', 'game_date', 'release_speed', 'release_pos_x', 'release_pos_z', 'player_name',  'batter', 'pitcher', 'events', 'description', 'spin_dir', \n",
    "        'spin_rate_deprecated', 'break_angle_deprecated', 'break_length_deprecated', 'zone', 'game_type', 'stand', 'p_throws', 'home_team', 'away_team',\n",
    "         'type', 'hit_location', 'bb_type', 'balls', 'strikes', 'game_year', 'pfx_x', 'pfx_z', 'plate_x', 'plate_z', 'on_3b', 'on_2b', 'on_1b', 'outs_when_up', 'inning',\n",
    "         'inning_topbot', 'hc_x', 'hc_y', 'tfs_deprecated', 'tfs_zulu_deprecated', 'umpire', 'sv_id', 'ax', 'ay', 'az', 'sz_top', 'sz_bot', 'hit_distance_sc', \n",
    "         'launch_speed', 'launch_angle', 'effective_speed', 'release_spin_rate', 'release_extension', 'game_pk', 'fielder_2', 'fielder_3', 'fielder_4', 'fielder_5',  \n",
    "         'fielder_6', 'fielder_7', 'fielder_8', 'fielder_9', 'release_pos_y', 'estimated_ba_using_speedangle',  'estimated_woba_using_speedangle', 'woba_value', \n",
    "         'woba_denom', 'babip_value', 'iso_value', 'launch_speed_angle', 'at_bat_number', 'pitch_number', 'pitch_name', 'home_score', 'away_score', 'bat_score', 'fld_score', \n",
    "          'post_away_score', 'post_home_score', 'post_bat_score', 'post_fld_score', 'if_fielding_alignment', 'of_fielding_alignment', 'spin_axis', 'delta_home_win_exp', 'delta_run_exp', \n",
    "         'bat_speed', 'swing_length', 'estimated_slg_using_speedangle',  'delta_pitcher_run_exp', 'hyper_speed', 'home_score_diff',  'bat_score_diff', 'home_win_exp', 'bat_score_diff', 'home_win_exp', \n",
    "         'bat_win_exp', 'age_pit_legacy', 'age_bat_legacy', 'age_pit', 'age_bat', 'n_thruorder_pitcher', 'n_priorpa_thisgame_player_at_bat', 'pitcher_days_since_prev_game',\n",
    "         'batter_days_since_prev_game', 'batter_days_until_next_game', 'api_break_z_with_gravity', 'api_break_x_arm', 'api_break_x_batter_in', 'arm_angle']]\n",
    "    return df\n",
    "    \n",
    "def append_data(data):\n",
    "    data.to_sql(\n",
    "        name = 'raw_pitch', #table name\n",
    "        con = engine,\n",
    "        if_exists= 'append',\n",
    "        index = False\n",
    "    )\n",
    "    return print(\"Appended Data\")\n",
    "\n",
    "def get_dates(year, month, day):\n",
    "    date_list = []\n",
    "    n = 14\n",
    "    for i in range(0,n):\n",
    "        temp_date = date(year,month,day) + relativedelta(years=i)\n",
    "        date_list.append(str(temp_date))\n",
    "    return date_list"
   ],
   "metadata": {
    "collapsed": false,
    "ExecuteTime": {
     "end_time": "2025-08-02T02:07:44.883826600Z",
     "start_time": "2025-08-02T02:07:44.876846300Z"
    }
   },
   "id": "b6ddded71e76604e"
  },
  {
   "cell_type": "markdown",
   "source": [
    "#### Appending Data To tables"
   ],
   "metadata": {
    "collapsed": false
   },
   "id": "408de71d3d0f0860"
  },
  {
   "cell_type": "code",
   "execution_count": 7,
   "outputs": [
    {
     "name": "stdout",
     "output_type": "stream",
     "text": [
      "Starting  2012-01-01\n",
      "This is a large query, it may take a moment to complete\n",
      "Skipping offseason dates\n",
      "Skipping offseason dates\n"
     ]
    },
    {
     "name": "stderr",
     "output_type": "stream",
     "text": [
      "100%|██████████| 215/215 [06:32<00:00,  1.83s/it]\n"
     ]
    },
    {
     "name": "stdout",
     "output_type": "stream",
     "text": [
      "Appended Data\n",
      "Data Appended for  2013-01-01 to  2013-12-31\n",
      "Starting  2014-01-01\n",
      "This is a large query, it may take a moment to complete\n",
      "Skipping offseason dates\n",
      "Skipping offseason dates\n"
     ]
    },
    {
     "name": "stderr",
     "output_type": "stream",
     "text": [
      "100%|██████████| 222/222 [06:47<00:00,  1.83s/it]\n"
     ]
    },
    {
     "name": "stdout",
     "output_type": "stream",
     "text": [
      "Appended Data\n",
      "Data Appended for  2015-01-01 to  2015-12-31\n",
      "Starting  2016-01-01\n",
      "This is a large query, it may take a moment to complete\n",
      "Skipping offseason dates\n",
      "Skipping offseason dates\n"
     ]
    },
    {
     "name": "stderr",
     "output_type": "stream",
     "text": [
      "100%|██████████| 214/214 [06:27<00:00,  1.81s/it]\n"
     ]
    },
    {
     "name": "stdout",
     "output_type": "stream",
     "text": [
      "Appended Data\n",
      "Data Appended for  2017-01-01 to  2017-12-31\n",
      "Starting  2018-01-01\n",
      "This is a large query, it may take a moment to complete\n",
      "Skipping offseason dates\n",
      "Skipping offseason dates\n"
     ]
    },
    {
     "name": "stderr",
     "output_type": "stream",
     "text": [
      "100%|██████████| 214/214 [06:26<00:00,  1.81s/it]\n"
     ]
    },
    {
     "name": "stdout",
     "output_type": "stream",
     "text": [
      "Appended Data\n",
      "Data Appended for  2019-01-01 to  2019-12-31\n",
      "Starting  2020-01-01\n",
      "This is a large query, it may take a moment to complete\n",
      "Skipping offseason dates\n",
      "Skipping offseason dates\n"
     ]
    },
    {
     "name": "stderr",
     "output_type": "stream",
     "text": [
      "100%|██████████| 97/97 [02:46<00:00,  1.72s/it]\n"
     ]
    },
    {
     "name": "stdout",
     "output_type": "stream",
     "text": [
      "Appended Data\n",
      "Data Appended for  2021-01-01 to  2021-12-31\n",
      "Starting  2022-01-01\n",
      "This is a large query, it may take a moment to complete\n",
      "Skipping offseason dates\n",
      "Skipping offseason dates\n"
     ]
    },
    {
     "name": "stderr",
     "output_type": "stream",
     "text": [
      "100%|██████████| 246/246 [07:17<00:00,  1.78s/it]\n"
     ]
    },
    {
     "name": "stdout",
     "output_type": "stream",
     "text": [
      "Appended Data\n",
      "Data Appended for  2023-01-01 to  2023-12-31\n",
      "Starting  2024-01-01\n",
      "This is a large query, it may take a moment to complete\n",
      "Skipping offseason dates\n",
      "Skipping offseason dates\n"
     ]
    },
    {
     "name": "stderr",
     "output_type": "stream",
     "text": [
      "100%|██████████| 246/246 [07:17<00:00,  1.78s/it]\n"
     ]
    },
    {
     "name": "stdout",
     "output_type": "stream",
     "text": [
      "Appended Data\n",
      "Data Appended for  2025-01-01 to  2025-12-31\n"
     ]
    },
    {
     "ename": "IndexError",
     "evalue": "list index out of range",
     "output_type": "error",
     "traceback": [
      "\u001B[1;31m---------------------------------------------------------------------------\u001B[0m",
      "\u001B[1;31mIndexError\u001B[0m                                Traceback (most recent call last)",
      "\u001B[1;32m~\\AppData\\Local\\Temp\\ipykernel_33804\\2075767538.py\u001B[0m in \u001B[0;36mtryAgain\u001B[1;34m(retries)\u001B[0m\n\u001B[0;32m      6\u001B[0m         \u001B[1;32mtry\u001B[0m\u001B[1;33m:\u001B[0m\u001B[1;33m\u001B[0m\u001B[1;33m\u001B[0m\u001B[0m\n\u001B[1;32m----> 7\u001B[1;33m             \u001B[0mprint\u001B[0m\u001B[1;33m(\u001B[0m\u001B[1;34m\"Starting \"\u001B[0m\u001B[1;33m,\u001B[0m \u001B[0mstart_date\u001B[0m\u001B[1;33m[\u001B[0m\u001B[0mi\u001B[0m\u001B[1;33m]\u001B[0m\u001B[1;33m)\u001B[0m\u001B[1;33m\u001B[0m\u001B[1;33m\u001B[0m\u001B[0m\n\u001B[0m\u001B[0;32m      8\u001B[0m             \u001B[0mdf\u001B[0m \u001B[1;33m=\u001B[0m \u001B[0mget_data\u001B[0m\u001B[1;33m(\u001B[0m\u001B[0mstart_date\u001B[0m\u001B[1;33m[\u001B[0m\u001B[0mi\u001B[0m\u001B[1;33m]\u001B[0m\u001B[1;33m,\u001B[0m \u001B[0mend_date\u001B[0m\u001B[1;33m[\u001B[0m\u001B[0mi\u001B[0m\u001B[1;33m]\u001B[0m\u001B[1;33m)\u001B[0m\u001B[1;33m\u001B[0m\u001B[1;33m\u001B[0m\u001B[0m\n",
      "\u001B[1;31mIndexError\u001B[0m: list index out of range",
      "\nDuring handling of the above exception, another exception occurred:\n",
      "\u001B[1;31mIndexError\u001B[0m                                Traceback (most recent call last)",
      "\u001B[1;32m~\\AppData\\Local\\Temp\\ipykernel_33804\\2075767538.py\u001B[0m in \u001B[0;36m<module>\u001B[1;34m\u001B[0m\n\u001B[0;32m     15\u001B[0m             \u001B[0mtryAgain\u001B[0m\u001B[1;33m(\u001B[0m\u001B[0mretries\u001B[0m\u001B[1;33m+\u001B[0m\u001B[1;36m1\u001B[0m\u001B[1;33m)\u001B[0m\u001B[1;33m\u001B[0m\u001B[1;33m\u001B[0m\u001B[0m\n\u001B[0;32m     16\u001B[0m         \u001B[1;31m#return print(\"Successfully appended all data\")\u001B[0m\u001B[1;33m\u001B[0m\u001B[1;33m\u001B[0m\u001B[0m\n\u001B[1;32m---> 17\u001B[1;33m \u001B[0mtryAgain\u001B[0m\u001B[1;33m(\u001B[0m\u001B[1;33m)\u001B[0m\u001B[1;33m\u001B[0m\u001B[1;33m\u001B[0m\u001B[0m\n\u001B[0m",
      "\u001B[1;32m~\\AppData\\Local\\Temp\\ipykernel_33804\\2075767538.py\u001B[0m in \u001B[0;36mtryAgain\u001B[1;34m(retries)\u001B[0m\n\u001B[0;32m     12\u001B[0m             \u001B[0mprint\u001B[0m\u001B[1;33m(\u001B[0m\u001B[1;34m\"Data Appended for \"\u001B[0m\u001B[1;33m,\u001B[0m \u001B[0mstart_date\u001B[0m\u001B[1;33m[\u001B[0m\u001B[0mi\u001B[0m\u001B[1;33m]\u001B[0m\u001B[1;33m,\u001B[0m \u001B[1;34m\"to \"\u001B[0m\u001B[1;33m,\u001B[0m \u001B[0mend_date\u001B[0m\u001B[1;33m[\u001B[0m\u001B[0mi\u001B[0m\u001B[1;33m]\u001B[0m\u001B[1;33m)\u001B[0m\u001B[1;33m\u001B[0m\u001B[1;33m\u001B[0m\u001B[0m\n\u001B[0;32m     13\u001B[0m         \u001B[1;32mexcept\u001B[0m\u001B[1;33m:\u001B[0m\u001B[1;33m\u001B[0m\u001B[1;33m\u001B[0m\u001B[0m\n\u001B[1;32m---> 14\u001B[1;33m             \u001B[0mprint\u001B[0m\u001B[1;33m(\u001B[0m\u001B[1;34m\"Failure for \"\u001B[0m\u001B[1;33m,\u001B[0m \u001B[0mstart_date\u001B[0m\u001B[1;33m[\u001B[0m\u001B[0mi\u001B[0m\u001B[1;33m]\u001B[0m\u001B[1;33m,\u001B[0m \u001B[1;34m\".Number: \"\u001B[0m\u001B[1;33m,\u001B[0m \u001B[0mretries\u001B[0m\u001B[1;33m)\u001B[0m\u001B[1;33m\u001B[0m\u001B[1;33m\u001B[0m\u001B[0m\n\u001B[0m\u001B[0;32m     15\u001B[0m             \u001B[0mtryAgain\u001B[0m\u001B[1;33m(\u001B[0m\u001B[0mretries\u001B[0m\u001B[1;33m+\u001B[0m\u001B[1;36m1\u001B[0m\u001B[1;33m)\u001B[0m\u001B[1;33m\u001B[0m\u001B[1;33m\u001B[0m\u001B[0m\n\u001B[0;32m     16\u001B[0m         \u001B[1;31m#return print(\"Successfully appended all data\")\u001B[0m\u001B[1;33m\u001B[0m\u001B[1;33m\u001B[0m\u001B[0m\n",
      "\u001B[1;31mIndexError\u001B[0m: list index out of range"
     ]
    }
   ],
   "source": [
    "start_date = get_dates(2012,1,1)\n",
    "end_date = get_dates(2012,12,31)\n",
    "def tryAgain(retries=0):\n",
    "    for i in range(0,len(start_date)):\n",
    "        if retries > 15: return print(\"Too Many Attempts\")\n",
    "        try:\n",
    "            print(\"Starting \", start_date[i])\n",
    "            df = get_data(start_date[i], end_date[i])\n",
    "            append_data(df)\n",
    "            print(\"Data Appended for \", start_date[i], \"to \", end_date[i])\n",
    "            start_date.remove(start_date[i])\n",
    "            end_date.remove(end_date[i])\n",
    "        except:\n",
    "            print(\"Failure for \", start_date[i], \".Number: \", retries)\n",
    "            tryAgain(retries+1)\n",
    "        #return print(\"Successfully appended all data\")\n",
    "tryAgain()"
   ],
   "metadata": {
    "collapsed": false,
    "ExecuteTime": {
     "end_time": "2025-08-02T03:11:38.135331700Z",
     "start_time": "2025-08-02T02:08:29.783736700Z"
    }
   },
   "id": "24fd2a9204a986fb"
  },
  {
   "cell_type": "markdown",
   "source": [
    "#### Append Raw Player Lookup Data "
   ],
   "metadata": {
    "collapsed": false
   },
   "id": "bc0d85870452660"
  },
  {
   "cell_type": "code",
   "execution_count": null,
   "outputs": [],
   "source": [
    "batter_ids = pd.read_sql_query(\"select distinct batter  from raw_pitch\", con=engine)\n",
    "pitcher_ids = pd.read_sql_query(\"select distinct pitcher  from raw_pitch\", con=engine)\n"
   ],
   "metadata": {
    "collapsed": false
   },
   "id": "6a09bec6b90a669f"
  },
  {
   "cell_type": "code",
   "execution_count": 35,
   "outputs": [
    {
     "name": "stdout",
     "output_type": "stream",
     "text": [
      "All Data Appended\n"
     ]
    }
   ],
   "source": [
    "batter_ids = pd.read_sql_query(\"select distinct batter  from raw_pitch\", con=engine)\n",
    "pitcher_ids = pd.read_sql_query(\"select distinct pitcher  from raw_pitch\", con=engine)\n",
    "batters = batter_ids['batter'].unique()\n",
    "pitchers = pitcher_ids['pitcher'].unique()\n",
    "batter_df = playerid_reverse_lookup(batters, key_type='mlbam')\n",
    "pitcher_df = playerid_reverse_lookup(pitchers, key_type='mlbam')\n",
    "batter_df.to_sql(name = 'raw_player_lookup', #table name\n",
    "        con = engine,\n",
    "        if_exists= 'append',\n",
    "        index = False)\n",
    "pitcher_df.to_sql(name = 'raw_player_lookup', #table name\n",
    "        con = engine,\n",
    "        if_exists= 'append',\n",
    "        index = False)\n",
    "print(\"All Data Appended\")"
   ],
   "metadata": {
    "collapsed": false,
    "ExecuteTime": {
     "end_time": "2025-08-02T15:01:51.594330400Z",
     "start_time": "2025-08-02T15:01:49.271295200Z"
    }
   },
   "id": "a0feb0f3441b77e"
  },
  {
   "cell_type": "code",
   "execution_count": 18,
   "outputs": [],
   "source": [
    "def tryAgain(retries=0):\n",
    "    for i in range(0,len(start_date)):\n",
    "        if retries > 15: return print(\"Too Many Attempts\")\n",
    "        try:\n",
    "            print(\"Starting \", start_date[i])\n",
    "            df = get_data(start_date[i], end_date[i])\n",
    "            append_data(df)\n",
    "            print(\"Data Appended for \", start_date[i], \"to \", end_date[i])\n",
    "            start_date.remove(start_date[i])\n",
    "            end_date.remove(end_date[i])\n",
    "        except:\n",
    "            print(\"Failure for \", start_date[i], \".Number: \", retries)\n",
    "            tryAgain(retries+1)\n",
    "        #return print(\"Successfully appended all data\")\n",
    "tryAgain()"
   ],
   "metadata": {
    "collapsed": false,
    "ExecuteTime": {
     "end_time": "2025-08-02T14:36:33.879487200Z",
     "start_time": "2025-08-02T14:36:33.830619400Z"
    }
   },
   "id": "aa372f44f6da8786"
  }
 ],
 "metadata": {
  "kernelspec": {
   "display_name": "Python 3",
   "language": "python",
   "name": "python3"
  },
  "language_info": {
   "codemirror_mode": {
    "name": "ipython",
    "version": 2
   },
   "file_extension": ".py",
   "mimetype": "text/x-python",
   "name": "python",
   "nbconvert_exporter": "python",
   "pygments_lexer": "ipython2",
   "version": "2.7.6"
  }
 },
 "nbformat": 4,
 "nbformat_minor": 5
}
